{
 "cells": [
  {
   "cell_type": "code",
   "execution_count": 31,
   "metadata": {},
   "outputs": [],
   "source": [
    "x = [1,8]"
   ]
  },
  {
   "cell_type": "code",
   "execution_count": 32,
   "metadata": {},
   "outputs": [],
   "source": [
    "res = x.append(5)"
   ]
  },
  {
   "cell_type": "code",
   "execution_count": 36,
   "metadata": {},
   "outputs": [
    {
     "name": "stdout",
     "output_type": "stream",
     "text": [
      "None\n"
     ]
    }
   ],
   "source": [
    "print(res)"
   ]
  },
  {
   "cell_type": "code",
   "execution_count": null,
   "metadata": {},
   "outputs": [],
   "source": [
    "# Continuation with list Datatypes #"
   ]
  },
  {
   "cell_type": "code",
   "execution_count": 37,
   "metadata": {},
   "outputs": [],
   "source": [
    "students = ['raghu','varun','hari','sunitha','naveen','imran','hameed']"
   ]
  },
  {
   "cell_type": "code",
   "execution_count": 38,
   "metadata": {},
   "outputs": [
    {
     "name": "stdout",
     "output_type": "stream",
     "text": [
      "['raghu', 'varun', 'hari', 'sunitha', 'naveen', 'imran', 'hameed']\n"
     ]
    }
   ],
   "source": [
    "print(students)"
   ]
  },
  {
   "cell_type": "code",
   "execution_count": 39,
   "metadata": {},
   "outputs": [
    {
     "data": {
      "text/plain": [
       "list"
      ]
     },
     "execution_count": 39,
     "metadata": {},
     "output_type": "execute_result"
    }
   ],
   "source": [
    "type(students)"
   ]
  },
  {
   "cell_type": "code",
   "execution_count": null,
   "metadata": {},
   "outputs": [],
   "source": [
    "## Senario : i want to appritiate the students above."
   ]
  },
  {
   "cell_type": "code",
   "execution_count": null,
   "metadata": {},
   "outputs": [],
   "source": []
  },
  {
   "cell_type": "code",
   "execution_count": 43,
   "metadata": {},
   "outputs": [
    {
     "name": "stdout",
     "output_type": "stream",
     "text": [
      "keep up the good work, Raghu\n"
     ]
    }
   ],
   "source": [
    "print(f\"keep up the good work, {students[0].title()}\")"
   ]
  },
  {
   "cell_type": "code",
   "execution_count": 45,
   "metadata": {},
   "outputs": [
    {
     "name": "stdout",
     "output_type": "stream",
     "text": [
      "keep up the good work, Hari\n"
     ]
    }
   ],
   "source": [
    "print(f\"keep up the good work, {students[2].title()}\")\n"
   ]
  },
  {
   "cell_type": "code",
   "execution_count": null,
   "metadata": {},
   "outputs": [],
   "source": []
  },
  {
   "cell_type": "code",
   "execution_count": null,
   "metadata": {},
   "outputs": [],
   "source": []
  },
  {
   "cell_type": "code",
   "execution_count": null,
   "metadata": {},
   "outputs": [],
   "source": [
    "# Introduction to FOR loop ##"
   ]
  },
  {
   "cell_type": "code",
   "execution_count": null,
   "metadata": {},
   "outputs": [],
   "source": [
    "# General syntax for FOR loop is \n",
    "tempvar -- can be any value (x,y,z or and name )\n",
    "mainvar -- should be students\n",
    "\n",
    "empty space befor print(tempvar) is called indentation\n",
    "\n",
    "for tempvar in mainvar:\n",
    "    print(tempvar)\n"
   ]
  },
  {
   "cell_type": "code",
   "execution_count": 46,
   "metadata": {},
   "outputs": [
    {
     "name": "stdout",
     "output_type": "stream",
     "text": [
      "keep up the good work, Raghu\n",
      "keep up the good work, Varun\n",
      "keep up the good work, Hari\n",
      "keep up the good work, Sunitha\n",
      "keep up the good work, Naveen\n",
      "keep up the good work, Imran\n",
      "keep up the good work, Hameed\n"
     ]
    }
   ],
   "source": [
    "for x in students:\n",
    "    print(f\"keep up the good work, {x.title()}\")"
   ]
  },
  {
   "cell_type": "code",
   "execution_count": null,
   "metadata": {},
   "outputs": [],
   "source": [
    "# enchasements to the above code {}\n",
    "will add one more message"
   ]
  },
  {
   "cell_type": "code",
   "execution_count": 53,
   "metadata": {},
   "outputs": [
    {
     "name": "stdout",
     "output_type": "stream",
     "text": [
      "keep up the good work,Raghu\n",
      "i will be looking forward to receive the practice file of today, Raghu\n",
      "keep up the good work,Varun\n",
      "i will be looking forward to receive the practice file of today, Varun\n",
      "keep up the good work,Hari\n",
      "i will be looking forward to receive the practice file of today, Hari\n",
      "keep up the good work,Sunitha\n",
      "i will be looking forward to receive the practice file of today, Sunitha\n",
      "keep up the good work,Naveen\n",
      "i will be looking forward to receive the practice file of today, Naveen\n",
      "keep up the good work,Imran\n",
      "i will be looking forward to receive the practice file of today, Imran\n",
      "keep up the good work,Hameed\n",
      "i will be looking forward to receive the practice file of today, Hameed\n"
     ]
    }
   ],
   "source": [
    "for x in students:\n",
    "    print(f\"keep up the good work,{x.title()}\")\n",
    "    print(f\"i will be looking forward to receive the practice file of today, {x.title()}\")"
   ]
  },
  {
   "cell_type": "code",
   "execution_count": null,
   "metadata": {},
   "outputs": [],
   "source": [
    "Writing in the loop it will be applied to all the elements"
   ]
  },
  {
   "cell_type": "code",
   "execution_count": 55,
   "metadata": {},
   "outputs": [
    {
     "name": "stdout",
     "output_type": "stream",
     "text": [
      "keep up the good work,Raghu\n",
      "i will be looking forward to receive the practice file of today, Raghu\n",
      "\n",
      "keep up the good work,Varun\n",
      "i will be looking forward to receive the practice file of today, Varun\n",
      "\n",
      "keep up the good work,Hari\n",
      "i will be looking forward to receive the practice file of today, Hari\n",
      "\n",
      "keep up the good work,Sunitha\n",
      "i will be looking forward to receive the practice file of today, Sunitha\n",
      "\n",
      "keep up the good work,Naveen\n",
      "i will be looking forward to receive the practice file of today, Naveen\n",
      "\n",
      "keep up the good work,Imran\n",
      "i will be looking forward to receive the practice file of today, Imran\n",
      "\n",
      "keep up the good work,Hameed\n",
      "i will be looking forward to receive the practice file of today, Hameed\n",
      "\n"
     ]
    }
   ],
   "source": [
    "for x in students:\n",
    "    print(f\"keep up the good work,{x.title()}\")\n",
    "    print(f\"i will be looking forward to receive the practice file of today, {x.title()}\\n\")"
   ]
  },
  {
   "cell_type": "code",
   "execution_count": null,
   "metadata": {},
   "outputs": [],
   "source": []
  },
  {
   "cell_type": "code",
   "execution_count": 57,
   "metadata": {},
   "outputs": [
    {
     "name": "stdout",
     "output_type": "stream",
     "text": [
      "keep up the good work,Raghu\n",
      "i will be looking forward to receive the practice file of today, Raghu\n",
      "\n",
      "keep up the good work,Varun\n",
      "i will be looking forward to receive the practice file of today, Varun\n",
      "\n",
      "keep up the good work,Hari\n",
      "i will be looking forward to receive the practice file of today, Hari\n",
      "\n",
      "keep up the good work,Sunitha\n",
      "i will be looking forward to receive the practice file of today, Sunitha\n",
      "\n",
      "keep up the good work,Naveen\n",
      "i will be looking forward to receive the practice file of today, Naveen\n",
      "\n",
      "keep up the good work,Imran\n",
      "i will be looking forward to receive the practice file of today, Imran\n",
      "\n",
      "keep up the good work,Hameed\n",
      "i will be looking forward to receive the practice file of today, Hameed\n",
      "\n",
      "Thank you all for showing intreset in learning Python\n"
     ]
    }
   ],
   "source": [
    "for x in students:\n",
    "    print(f\"keep up the good work,{x.title()}\")\n",
    "    print(f\"i will be looking forward to receive the practice file of today, {x.title()}\\n\")\n",
    "    \n",
    "print(f\"Thank you all for showing intreset in learning Python\")    \n",
    "    \n"
   ]
  },
  {
   "cell_type": "code",
   "execution_count": null,
   "metadata": {},
   "outputs": [],
   "source": [
    "# if we dont give indentation in for loop then ##"
   ]
  },
  {
   "cell_type": "code",
   "execution_count": 59,
   "metadata": {},
   "outputs": [
    {
     "ename": "IndentationError",
     "evalue": "expected an indented block (<ipython-input-59-6b6f06542814>, line 2)",
     "output_type": "error",
     "traceback": [
      "\u001b[1;36m  File \u001b[1;32m\"<ipython-input-59-6b6f06542814>\"\u001b[1;36m, line \u001b[1;32m2\u001b[0m\n\u001b[1;33m    print(f\"keep up the good work,{x.title()}\")\u001b[0m\n\u001b[1;37m    ^\u001b[0m\n\u001b[1;31mIndentationError\u001b[0m\u001b[1;31m:\u001b[0m expected an indented block\n"
     ]
    }
   ],
   "source": [
    "for x in students:\n",
    "print(f\"keep up the good work,{x.title()}\")\n",
    "\n",
    "print(f\"Thank you all for showing intreset in learning Python\")    \n"
   ]
  },
  {
   "cell_type": "code",
   "execution_count": null,
   "metadata": {},
   "outputs": [],
   "source": []
  }
 ],
 "metadata": {
  "kernelspec": {
   "display_name": "Python 3",
   "language": "python",
   "name": "python3"
  },
  "language_info": {
   "codemirror_mode": {
    "name": "ipython",
    "version": 3
   },
   "file_extension": ".py",
   "mimetype": "text/x-python",
   "name": "python",
   "nbconvert_exporter": "python",
   "pygments_lexer": "ipython3",
   "version": "3.8.5"
  }
 },
 "nbformat": 4,
 "nbformat_minor": 4
}
